{
 "cells": [
  {
   "cell_type": "code",
   "execution_count": 115,
   "id": "144be033",
   "metadata": {
    "ExecuteTime": {
     "end_time": "2025-01-04T10:29:54.781027Z",
     "start_time": "2025-01-04T10:29:54.767843Z"
    }
   },
   "outputs": [],
   "source": [
    "\n",
    "# Importing libraries\n",
    "import pandas as pd\n",
    "import numpy as np\n",
    "import matplotlib.pyplot as plt\n",
    "import seaborn as sns\n",
    "from sklearn.model_selection import train_test_split\n",
    "from sklearn.linear_model import LinearRegression\n",
    "from sklearn.metrics import mean_absolute_error, mean_squared_error, r2_score\n",
    "import datetime as dt\n"
   ]
  },
  {
   "cell_type": "code",
   "execution_count": 116,
   "id": "d5882cc0eb25ed9",
   "metadata": {},
   "outputs": [],
   "source": [
    "## Loading data \n",
    "\n",
    "df = pd.read_excel(r\"C:\\Users\\shubh\\Desktop\\IIM Project\\ride_dataset.xlsx\")"
   ]
  },
  {
   "cell_type": "code",
   "execution_count": 117,
   "id": "c913d13d",
   "metadata": {
    "ExecuteTime": {
     "end_time": "2025-01-04T10:26:51.541236Z",
     "start_time": "2025-01-04T10:26:51.528406Z"
    }
   },
   "outputs": [
    {
     "name": "stdout",
     "output_type": "stream",
     "text": [
      "(4943, 25)\n"
     ]
    }
   ],
   "source": [
    "print(df.shape)"
   ]
  },
  {
   "cell_type": "code",
   "execution_count": 118,
   "id": "0a85d664",
   "metadata": {},
   "outputs": [
    {
     "name": "stdout",
     "output_type": "stream",
     "text": [
      "<class 'pandas.core.frame.DataFrame'>\n",
      "RangeIndex: 4943 entries, 0 to 4942\n",
      "Data columns (total 25 columns):\n",
      " #   Column                 Non-Null Count  Dtype         \n",
      "---  ------                 --------------  -----         \n",
      " 0   order_id_new           4943 non-null   int64         \n",
      " 1   order_try_id_new       4943 non-null   int64         \n",
      " 2   calc_created           4943 non-null   datetime64[ns]\n",
      " 3   metered_price          4923 non-null   float64       \n",
      " 4   upfront_price          3409 non-null   float64       \n",
      " 5   distance               4943 non-null   int64         \n",
      " 6   duration               4943 non-null   int64         \n",
      " 7   gps_confidence         4943 non-null   int64         \n",
      " 8   entered_by             4943 non-null   object        \n",
      " 9   b_state                4943 non-null   object        \n",
      " 10  dest_change_number     4943 non-null   int64         \n",
      " 11  prediction_price_type  4923 non-null   object        \n",
      " 12  predicted_distance     4923 non-null   float64       \n",
      " 13  predicted_duration     4923 non-null   float64       \n",
      " 14  change_reason_pricing  298 non-null    object        \n",
      " 15  ticket_id_new          4943 non-null   int64         \n",
      " 16  rider_app_version      4927 non-null   object        \n",
      " 17  order_state            4943 non-null   object        \n",
      " 18  order_try_state        4943 non-null   object        \n",
      " 19  driver_app_version     4943 non-null   object        \n",
      " 20  driver_device_uid_new  4943 non-null   int64         \n",
      " 21  device_name            4943 non-null   object        \n",
      " 22  us_indicator           4943 non-null   int64         \n",
      " 23  overpaid_ride_ticket   4943 non-null   int64         \n",
      " 24  fraud_score            2184 non-null   float64       \n",
      "dtypes: datetime64[ns](1), float64(5), int64(10), object(9)\n",
      "memory usage: 965.6+ KB\n",
      "None\n"
     ]
    }
   ],
   "source": [
    "## display basic info \n",
    "\n",
    "print(df.info())"
   ]
  },
  {
   "cell_type": "code",
   "execution_count": 119,
   "id": "e3e4ca11",
   "metadata": {},
   "outputs": [
    {
     "name": "stdout",
     "output_type": "stream",
     "text": [
      "   order_id_new  order_try_id_new        calc_created  metered_price  \\\n",
      "0            22                22 2020-02-02 03:37:31           4.04   \n",
      "1           618               618 2020-02-08 02:26:19           6.09   \n",
      "2           657               657 2020-02-08 11:50:35           4.32   \n",
      "3           313               313 2020-02-05 06:34:54       72871.72   \n",
      "4          1176              1176 2020-02-13 17:31:24       20032.50   \n",
      "\n",
      "   upfront_price  distance  duration  gps_confidence entered_by   b_state  \\\n",
      "0           10.0      2839       700               1     client  finished   \n",
      "1            3.6      5698       493               1     client  finished   \n",
      "2            3.5      4426       695               1     client  finished   \n",
      "3            NaN     49748      1400               0     client  finished   \n",
      "4        19500.0     10273      5067               1     client  finished   \n",
      "\n",
      "   ...  ticket_id_new rider_app_version  order_state  order_try_state  \\\n",
      "0  ...           1376           CI.4.17     finished         finished   \n",
      "1  ...           2035           CA.5.43     finished         finished   \n",
      "2  ...           2222           CA.5.43     finished         finished   \n",
      "3  ...           1788           CA.5.23     finished         finished   \n",
      "4  ...           2710           CA.5.04     finished         finished   \n",
      "\n",
      "  driver_app_version  driver_device_uid_new       device_name us_indicator  \\\n",
      "0            DA.4.37                   1596    Xiaomi Redmi 6            1   \n",
      "1            DA.4.39                   1578  Samsung SM-G965F            1   \n",
      "2            DA.4.37                    951  Samsung SM-A530F            1   \n",
      "3            DA.4.37                   1587          TECNO-Y6            0   \n",
      "4            DA.4.37                    433        Itel W5504            0   \n",
      "\n",
      "  overpaid_ride_ticket fraud_score  \n",
      "0                    0     -1383.0  \n",
      "1                    0         NaN  \n",
      "2                    0      -166.0  \n",
      "3                    1         NaN  \n",
      "4                    0         NaN  \n",
      "\n",
      "[5 rows x 25 columns]\n"
     ]
    }
   ],
   "source": [
    "## printing first few rows\n",
    "\n",
    "print(df.head())"
   ]
  },
  {
   "cell_type": "code",
   "execution_count": 120,
   "id": "99798504",
   "metadata": {},
   "outputs": [
    {
     "name": "stdout",
     "output_type": "stream",
     "text": [
      "Null Values in Each Column:\n",
      "order_id_new                0\n",
      "order_try_id_new            0\n",
      "calc_created                0\n",
      "metered_price              20\n",
      "upfront_price            1534\n",
      "distance                    0\n",
      "duration                    0\n",
      "gps_confidence              0\n",
      "entered_by                  0\n",
      "b_state                     0\n",
      "dest_change_number          0\n",
      "prediction_price_type      20\n",
      "predicted_distance         20\n",
      "predicted_duration         20\n",
      "change_reason_pricing    4645\n",
      "ticket_id_new               0\n",
      "rider_app_version          16\n",
      "order_state                 0\n",
      "order_try_state             0\n",
      "driver_app_version          0\n",
      "driver_device_uid_new       0\n",
      "device_name                 0\n",
      "us_indicator                0\n",
      "overpaid_ride_ticket        0\n",
      "fraud_score              2759\n",
      "dtype: int64\n"
     ]
    }
   ],
   "source": [
    "## Checking for null values\n",
    "\n",
    "null_values = df.isnull().sum()\n",
    "print(\"Null Values in Each Column:\")\n",
    "print(null_values)\n"
   ]
  },
  {
   "cell_type": "code",
   "execution_count": 121,
   "id": "79d4d181",
   "metadata": {},
   "outputs": [
    {
     "name": "stdout",
     "output_type": "stream",
     "text": [
      "<class 'pandas.core.frame.DataFrame'>\n",
      "RangeIndex: 4943 entries, 0 to 4942\n",
      "Data columns (total 25 columns):\n",
      " #   Column                 Non-Null Count  Dtype         \n",
      "---  ------                 --------------  -----         \n",
      " 0   order_id_new           4943 non-null   int64         \n",
      " 1   order_try_id_new       4943 non-null   int64         \n",
      " 2   calc_created           4943 non-null   datetime64[ns]\n",
      " 3   metered_price          4923 non-null   float64       \n",
      " 4   upfront_price          3409 non-null   float64       \n",
      " 5   distance               4943 non-null   int64         \n",
      " 6   duration               4943 non-null   int64         \n",
      " 7   gps_confidence         4943 non-null   int64         \n",
      " 8   entered_by             4943 non-null   object        \n",
      " 9   b_state                4943 non-null   object        \n",
      " 10  dest_change_number     4943 non-null   int64         \n",
      " 11  prediction_price_type  4923 non-null   object        \n",
      " 12  predicted_distance     4923 non-null   float64       \n",
      " 13  predicted_duration     4923 non-null   float64       \n",
      " 14  change_reason_pricing  298 non-null    object        \n",
      " 15  ticket_id_new          4943 non-null   int64         \n",
      " 16  rider_app_version      4927 non-null   object        \n",
      " 17  order_state            4943 non-null   object        \n",
      " 18  order_try_state        4943 non-null   object        \n",
      " 19  driver_app_version     4943 non-null   object        \n",
      " 20  driver_device_uid_new  4943 non-null   int64         \n",
      " 21  device_name            4943 non-null   object        \n",
      " 22  us_indicator           4943 non-null   int64         \n",
      " 23  overpaid_ride_ticket   4943 non-null   int64         \n",
      " 24  fraud_score            2184 non-null   float64       \n",
      "dtypes: datetime64[ns](1), float64(5), int64(10), object(9)\n",
      "memory usage: 965.6+ KB\n"
     ]
    }
   ],
   "source": [
    "df.info()"
   ]
  },
  {
   "cell_type": "code",
   "execution_count": 122,
   "id": "d7acfd80",
   "metadata": {},
   "outputs": [],
   "source": [
    "## Dropping irrelevant column to our price prediction analysis\n",
    "\n",
    "df = df.drop(columns=['rider_app_version', 'driver_app_version', 'driver_device_uid_new', 'us_indicator', 'device_name'])\n"
   ]
  },
  {
   "cell_type": "code",
   "execution_count": 123,
   "id": "fd45af5a",
   "metadata": {},
   "outputs": [],
   "source": [
    "# Drop rows where metered price is 0\n",
    "df = df[df['metered_price'] != 0]"
   ]
  },
  {
   "cell_type": "code",
   "execution_count": 124,
   "id": "7ecfbb95",
   "metadata": {},
   "outputs": [],
   "source": [
    "df = df.dropna(subset=['upfront_price'])"
   ]
  },
  {
   "cell_type": "code",
   "execution_count": 125,
   "id": "e84f4ca6",
   "metadata": {},
   "outputs": [
    {
     "data": {
      "text/html": [
       "<div>\n",
       "<style scoped>\n",
       "    .dataframe tbody tr th:only-of-type {\n",
       "        vertical-align: middle;\n",
       "    }\n",
       "\n",
       "    .dataframe tbody tr th {\n",
       "        vertical-align: top;\n",
       "    }\n",
       "\n",
       "    .dataframe thead th {\n",
       "        text-align: right;\n",
       "    }\n",
       "</style>\n",
       "<table border=\"1\" class=\"dataframe\">\n",
       "  <thead>\n",
       "    <tr style=\"text-align: right;\">\n",
       "      <th></th>\n",
       "      <th>order_id_new</th>\n",
       "      <th>order_try_id_new</th>\n",
       "      <th>calc_created</th>\n",
       "      <th>metered_price</th>\n",
       "      <th>upfront_price</th>\n",
       "      <th>distance</th>\n",
       "      <th>duration</th>\n",
       "      <th>gps_confidence</th>\n",
       "      <th>entered_by</th>\n",
       "      <th>b_state</th>\n",
       "      <th>dest_change_number</th>\n",
       "      <th>prediction_price_type</th>\n",
       "      <th>predicted_distance</th>\n",
       "      <th>predicted_duration</th>\n",
       "      <th>change_reason_pricing</th>\n",
       "      <th>ticket_id_new</th>\n",
       "      <th>order_state</th>\n",
       "      <th>order_try_state</th>\n",
       "      <th>overpaid_ride_ticket</th>\n",
       "      <th>fraud_score</th>\n",
       "    </tr>\n",
       "  </thead>\n",
       "  <tbody>\n",
       "    <tr>\n",
       "      <th>0</th>\n",
       "      <td>22</td>\n",
       "      <td>22</td>\n",
       "      <td>2020-02-02 03:37:31</td>\n",
       "      <td>4.04</td>\n",
       "      <td>10.0</td>\n",
       "      <td>2839</td>\n",
       "      <td>700</td>\n",
       "      <td>1</td>\n",
       "      <td>client</td>\n",
       "      <td>finished</td>\n",
       "      <td>1</td>\n",
       "      <td>upfront</td>\n",
       "      <td>13384.0</td>\n",
       "      <td>1091.0</td>\n",
       "      <td>NaN</td>\n",
       "      <td>1376</td>\n",
       "      <td>finished</td>\n",
       "      <td>finished</td>\n",
       "      <td>0</td>\n",
       "      <td>-1383.0</td>\n",
       "    </tr>\n",
       "    <tr>\n",
       "      <th>1</th>\n",
       "      <td>618</td>\n",
       "      <td>618</td>\n",
       "      <td>2020-02-08 02:26:19</td>\n",
       "      <td>6.09</td>\n",
       "      <td>3.6</td>\n",
       "      <td>5698</td>\n",
       "      <td>493</td>\n",
       "      <td>1</td>\n",
       "      <td>client</td>\n",
       "      <td>finished</td>\n",
       "      <td>1</td>\n",
       "      <td>upfront</td>\n",
       "      <td>2286.0</td>\n",
       "      <td>360.0</td>\n",
       "      <td>NaN</td>\n",
       "      <td>2035</td>\n",
       "      <td>finished</td>\n",
       "      <td>finished</td>\n",
       "      <td>0</td>\n",
       "      <td>NaN</td>\n",
       "    </tr>\n",
       "    <tr>\n",
       "      <th>2</th>\n",
       "      <td>657</td>\n",
       "      <td>657</td>\n",
       "      <td>2020-02-08 11:50:35</td>\n",
       "      <td>4.32</td>\n",
       "      <td>3.5</td>\n",
       "      <td>4426</td>\n",
       "      <td>695</td>\n",
       "      <td>1</td>\n",
       "      <td>client</td>\n",
       "      <td>finished</td>\n",
       "      <td>1</td>\n",
       "      <td>upfront</td>\n",
       "      <td>4101.0</td>\n",
       "      <td>433.0</td>\n",
       "      <td>NaN</td>\n",
       "      <td>2222</td>\n",
       "      <td>finished</td>\n",
       "      <td>finished</td>\n",
       "      <td>0</td>\n",
       "      <td>-166.0</td>\n",
       "    </tr>\n",
       "    <tr>\n",
       "      <th>4</th>\n",
       "      <td>1176</td>\n",
       "      <td>1176</td>\n",
       "      <td>2020-02-13 17:31:24</td>\n",
       "      <td>20032.50</td>\n",
       "      <td>19500.0</td>\n",
       "      <td>10273</td>\n",
       "      <td>5067</td>\n",
       "      <td>1</td>\n",
       "      <td>client</td>\n",
       "      <td>finished</td>\n",
       "      <td>1</td>\n",
       "      <td>upfront</td>\n",
       "      <td>14236.0</td>\n",
       "      <td>2778.0</td>\n",
       "      <td>NaN</td>\n",
       "      <td>2710</td>\n",
       "      <td>finished</td>\n",
       "      <td>finished</td>\n",
       "      <td>0</td>\n",
       "      <td>NaN</td>\n",
       "    </tr>\n",
       "    <tr>\n",
       "      <th>5</th>\n",
       "      <td>1209</td>\n",
       "      <td>1209</td>\n",
       "      <td>2020-02-14 01:27:01</td>\n",
       "      <td>6.11</td>\n",
       "      <td>6.3</td>\n",
       "      <td>4924</td>\n",
       "      <td>513</td>\n",
       "      <td>1</td>\n",
       "      <td>client</td>\n",
       "      <td>finished</td>\n",
       "      <td>1</td>\n",
       "      <td>upfront</td>\n",
       "      <td>4882.0</td>\n",
       "      <td>562.0</td>\n",
       "      <td>NaN</td>\n",
       "      <td>2732</td>\n",
       "      <td>finished</td>\n",
       "      <td>finished</td>\n",
       "      <td>0</td>\n",
       "      <td>NaN</td>\n",
       "    </tr>\n",
       "  </tbody>\n",
       "</table>\n",
       "</div>"
      ],
      "text/plain": [
       "   order_id_new  order_try_id_new        calc_created  metered_price  \\\n",
       "0            22                22 2020-02-02 03:37:31           4.04   \n",
       "1           618               618 2020-02-08 02:26:19           6.09   \n",
       "2           657               657 2020-02-08 11:50:35           4.32   \n",
       "4          1176              1176 2020-02-13 17:31:24       20032.50   \n",
       "5          1209              1209 2020-02-14 01:27:01           6.11   \n",
       "\n",
       "   upfront_price  distance  duration  gps_confidence entered_by   b_state  \\\n",
       "0           10.0      2839       700               1     client  finished   \n",
       "1            3.6      5698       493               1     client  finished   \n",
       "2            3.5      4426       695               1     client  finished   \n",
       "4        19500.0     10273      5067               1     client  finished   \n",
       "5            6.3      4924       513               1     client  finished   \n",
       "\n",
       "   dest_change_number prediction_price_type  predicted_distance  \\\n",
       "0                   1               upfront             13384.0   \n",
       "1                   1               upfront              2286.0   \n",
       "2                   1               upfront              4101.0   \n",
       "4                   1               upfront             14236.0   \n",
       "5                   1               upfront              4882.0   \n",
       "\n",
       "   predicted_duration change_reason_pricing  ticket_id_new order_state  \\\n",
       "0              1091.0                   NaN           1376    finished   \n",
       "1               360.0                   NaN           2035    finished   \n",
       "2               433.0                   NaN           2222    finished   \n",
       "4              2778.0                   NaN           2710    finished   \n",
       "5               562.0                   NaN           2732    finished   \n",
       "\n",
       "  order_try_state  overpaid_ride_ticket  fraud_score  \n",
       "0        finished                     0      -1383.0  \n",
       "1        finished                     0          NaN  \n",
       "2        finished                     0       -166.0  \n",
       "4        finished                     0          NaN  \n",
       "5        finished                     0          NaN  "
      ]
     },
     "execution_count": 125,
     "metadata": {},
     "output_type": "execute_result"
    }
   ],
   "source": [
    "df.head()"
   ]
  },
  {
   "cell_type": "code",
   "execution_count": 126,
   "id": "1c2e0910",
   "metadata": {},
   "outputs": [],
   "source": [
    "# Changing calc created column to datetime\n",
    "\n",
    "df['calc_created'] = pd.to_datetime(df['calc_created'])"
   ]
  },
  {
   "cell_type": "code",
   "execution_count": 127,
   "id": "2222cae6",
   "metadata": {},
   "outputs": [],
   "source": [
    "# seperating date and time from calc created column\n",
    "\n",
    "df['calc_date'] = df['calc_created'].dt.date\n",
    "df['calc_time'] = df['calc_created'].dt.time"
   ]
  },
  {
   "cell_type": "code",
   "execution_count": 128,
   "id": "9c89034c",
   "metadata": {},
   "outputs": [
    {
     "name": "stdout",
     "output_type": "stream",
     "text": [
      "         calc_created   calc_date calc_time\n",
      "0 2020-02-02 03:37:31  2020-02-02  03:37:31\n",
      "1 2020-02-08 02:26:19  2020-02-08  02:26:19\n",
      "2 2020-02-08 11:50:35  2020-02-08  11:50:35\n",
      "4 2020-02-13 17:31:24  2020-02-13  17:31:24\n",
      "5 2020-02-14 01:27:01  2020-02-14  01:27:01\n"
     ]
    }
   ],
   "source": [
    "# Displaying changes\n",
    "\n",
    "print(df[['calc_created', 'calc_date', 'calc_time']].head())\n"
   ]
  },
  {
   "cell_type": "code",
   "execution_count": 129,
   "id": "6ab25a85",
   "metadata": {},
   "outputs": [],
   "source": [
    "# Approach being partioning data into time blocks of 6 hours for better understanding of time and price relation\n",
    "\n",
    "# Extracting hours from calc_time\n",
    "\n",
    "df['hour'] = pd.to_datetime(df['calc_time'], format='%H:%M:%S').dt.hour"
   ]
  },
  {
   "cell_type": "code",
   "execution_count": 130,
   "id": "cde54ac7",
   "metadata": {},
   "outputs": [
    {
     "name": "stdout",
     "output_type": "stream",
     "text": [
      "  calc_time  hour time_block\n",
      "0  03:37:31     3          A\n",
      "1  02:26:19     2          A\n",
      "2  11:50:35    11          B\n",
      "4  17:31:24    17          C\n",
      "5  01:27:01     1          A\n"
     ]
    }
   ],
   "source": [
    "# Define time block conditions\n",
    "conditions = [\n",
    "    (df['hour'] >= 0) & (df['hour'] < 6),   # Block A: 00:00 - 06:00\n",
    "    (df['hour'] >= 6) & (df['hour'] < 12),  # Block B: 06:00 - 12:00\n",
    "    (df['hour'] >= 12) & (df['hour'] < 18), # Block C: 12:00 - 18:00\n",
    "    (df['hour'] >= 18) & (df['hour'] < 24)  # Block D: 18:00 - 00:00\n",
    "]\n",
    "block_labels = ['A', 'B', 'C', 'D']\n",
    "\n",
    "# Assign time blocks\n",
    "df['time_block'] = pd.cut(df['hour'], bins=[-1, 6, 12, 18, 24], labels=block_labels, include_lowest=True)\n",
    "\n",
    "print(df[['calc_time', 'hour', 'time_block']].head())"
   ]
  },
  {
   "cell_type": "code",
   "execution_count": 131,
   "id": "4f08eba8",
   "metadata": {},
   "outputs": [
    {
     "data": {
      "text/html": [
       "<div>\n",
       "<style scoped>\n",
       "    .dataframe tbody tr th:only-of-type {\n",
       "        vertical-align: middle;\n",
       "    }\n",
       "\n",
       "    .dataframe tbody tr th {\n",
       "        vertical-align: top;\n",
       "    }\n",
       "\n",
       "    .dataframe thead th {\n",
       "        text-align: right;\n",
       "    }\n",
       "</style>\n",
       "<table border=\"1\" class=\"dataframe\">\n",
       "  <thead>\n",
       "    <tr style=\"text-align: right;\">\n",
       "      <th></th>\n",
       "      <th>order_id_new</th>\n",
       "      <th>order_try_id_new</th>\n",
       "      <th>calc_created</th>\n",
       "      <th>metered_price</th>\n",
       "      <th>upfront_price</th>\n",
       "      <th>distance</th>\n",
       "      <th>duration</th>\n",
       "      <th>gps_confidence</th>\n",
       "      <th>entered_by</th>\n",
       "      <th>b_state</th>\n",
       "      <th>...</th>\n",
       "      <th>change_reason_pricing</th>\n",
       "      <th>ticket_id_new</th>\n",
       "      <th>order_state</th>\n",
       "      <th>order_try_state</th>\n",
       "      <th>overpaid_ride_ticket</th>\n",
       "      <th>fraud_score</th>\n",
       "      <th>calc_date</th>\n",
       "      <th>calc_time</th>\n",
       "      <th>hour</th>\n",
       "      <th>time_block</th>\n",
       "    </tr>\n",
       "  </thead>\n",
       "  <tbody>\n",
       "    <tr>\n",
       "      <th>0</th>\n",
       "      <td>22</td>\n",
       "      <td>22</td>\n",
       "      <td>2020-02-02 03:37:31</td>\n",
       "      <td>4.04</td>\n",
       "      <td>10.0</td>\n",
       "      <td>2839</td>\n",
       "      <td>700</td>\n",
       "      <td>1</td>\n",
       "      <td>client</td>\n",
       "      <td>finished</td>\n",
       "      <td>...</td>\n",
       "      <td>NaN</td>\n",
       "      <td>1376</td>\n",
       "      <td>finished</td>\n",
       "      <td>finished</td>\n",
       "      <td>0</td>\n",
       "      <td>-1383.0</td>\n",
       "      <td>2020-02-02</td>\n",
       "      <td>03:37:31</td>\n",
       "      <td>3</td>\n",
       "      <td>A</td>\n",
       "    </tr>\n",
       "    <tr>\n",
       "      <th>1</th>\n",
       "      <td>618</td>\n",
       "      <td>618</td>\n",
       "      <td>2020-02-08 02:26:19</td>\n",
       "      <td>6.09</td>\n",
       "      <td>3.6</td>\n",
       "      <td>5698</td>\n",
       "      <td>493</td>\n",
       "      <td>1</td>\n",
       "      <td>client</td>\n",
       "      <td>finished</td>\n",
       "      <td>...</td>\n",
       "      <td>NaN</td>\n",
       "      <td>2035</td>\n",
       "      <td>finished</td>\n",
       "      <td>finished</td>\n",
       "      <td>0</td>\n",
       "      <td>NaN</td>\n",
       "      <td>2020-02-08</td>\n",
       "      <td>02:26:19</td>\n",
       "      <td>2</td>\n",
       "      <td>A</td>\n",
       "    </tr>\n",
       "    <tr>\n",
       "      <th>2</th>\n",
       "      <td>657</td>\n",
       "      <td>657</td>\n",
       "      <td>2020-02-08 11:50:35</td>\n",
       "      <td>4.32</td>\n",
       "      <td>3.5</td>\n",
       "      <td>4426</td>\n",
       "      <td>695</td>\n",
       "      <td>1</td>\n",
       "      <td>client</td>\n",
       "      <td>finished</td>\n",
       "      <td>...</td>\n",
       "      <td>NaN</td>\n",
       "      <td>2222</td>\n",
       "      <td>finished</td>\n",
       "      <td>finished</td>\n",
       "      <td>0</td>\n",
       "      <td>-166.0</td>\n",
       "      <td>2020-02-08</td>\n",
       "      <td>11:50:35</td>\n",
       "      <td>11</td>\n",
       "      <td>B</td>\n",
       "    </tr>\n",
       "    <tr>\n",
       "      <th>4</th>\n",
       "      <td>1176</td>\n",
       "      <td>1176</td>\n",
       "      <td>2020-02-13 17:31:24</td>\n",
       "      <td>20032.50</td>\n",
       "      <td>19500.0</td>\n",
       "      <td>10273</td>\n",
       "      <td>5067</td>\n",
       "      <td>1</td>\n",
       "      <td>client</td>\n",
       "      <td>finished</td>\n",
       "      <td>...</td>\n",
       "      <td>NaN</td>\n",
       "      <td>2710</td>\n",
       "      <td>finished</td>\n",
       "      <td>finished</td>\n",
       "      <td>0</td>\n",
       "      <td>NaN</td>\n",
       "      <td>2020-02-13</td>\n",
       "      <td>17:31:24</td>\n",
       "      <td>17</td>\n",
       "      <td>C</td>\n",
       "    </tr>\n",
       "    <tr>\n",
       "      <th>5</th>\n",
       "      <td>1209</td>\n",
       "      <td>1209</td>\n",
       "      <td>2020-02-14 01:27:01</td>\n",
       "      <td>6.11</td>\n",
       "      <td>6.3</td>\n",
       "      <td>4924</td>\n",
       "      <td>513</td>\n",
       "      <td>1</td>\n",
       "      <td>client</td>\n",
       "      <td>finished</td>\n",
       "      <td>...</td>\n",
       "      <td>NaN</td>\n",
       "      <td>2732</td>\n",
       "      <td>finished</td>\n",
       "      <td>finished</td>\n",
       "      <td>0</td>\n",
       "      <td>NaN</td>\n",
       "      <td>2020-02-14</td>\n",
       "      <td>01:27:01</td>\n",
       "      <td>1</td>\n",
       "      <td>A</td>\n",
       "    </tr>\n",
       "  </tbody>\n",
       "</table>\n",
       "<p>5 rows × 24 columns</p>\n",
       "</div>"
      ],
      "text/plain": [
       "   order_id_new  order_try_id_new        calc_created  metered_price  \\\n",
       "0            22                22 2020-02-02 03:37:31           4.04   \n",
       "1           618               618 2020-02-08 02:26:19           6.09   \n",
       "2           657               657 2020-02-08 11:50:35           4.32   \n",
       "4          1176              1176 2020-02-13 17:31:24       20032.50   \n",
       "5          1209              1209 2020-02-14 01:27:01           6.11   \n",
       "\n",
       "   upfront_price  distance  duration  gps_confidence entered_by   b_state  \\\n",
       "0           10.0      2839       700               1     client  finished   \n",
       "1            3.6      5698       493               1     client  finished   \n",
       "2            3.5      4426       695               1     client  finished   \n",
       "4        19500.0     10273      5067               1     client  finished   \n",
       "5            6.3      4924       513               1     client  finished   \n",
       "\n",
       "   ...  change_reason_pricing ticket_id_new  order_state  order_try_state  \\\n",
       "0  ...                    NaN          1376     finished         finished   \n",
       "1  ...                    NaN          2035     finished         finished   \n",
       "2  ...                    NaN          2222     finished         finished   \n",
       "4  ...                    NaN          2710     finished         finished   \n",
       "5  ...                    NaN          2732     finished         finished   \n",
       "\n",
       "  overpaid_ride_ticket  fraud_score   calc_date calc_time  hour  time_block  \n",
       "0                    0      -1383.0  2020-02-02  03:37:31     3           A  \n",
       "1                    0          NaN  2020-02-08  02:26:19     2           A  \n",
       "2                    0       -166.0  2020-02-08  11:50:35    11           B  \n",
       "4                    0          NaN  2020-02-13  17:31:24    17           C  \n",
       "5                    0          NaN  2020-02-14  01:27:01     1           A  \n",
       "\n",
       "[5 rows x 24 columns]"
      ]
     },
     "execution_count": 131,
     "metadata": {},
     "output_type": "execute_result"
    }
   ],
   "source": [
    "df.head()"
   ]
  },
  {
   "cell_type": "code",
   "execution_count": 132,
   "id": "1c0eb73f",
   "metadata": {},
   "outputs": [
    {
     "name": "stdout",
     "output_type": "stream",
     "text": [
      "time_block\n",
      "C    1062\n",
      "B     888\n",
      "D     777\n",
      "A     682\n",
      "Name: count, dtype: int64\n"
     ]
    }
   ],
   "source": [
    "# Count rides in each time block\n",
    "\n",
    "time_block_counts = df['time_block'].value_counts()\n",
    "print(time_block_counts)"
   ]
  },
  {
   "cell_type": "code",
   "execution_count": 133,
   "id": "40bc16d0",
   "metadata": {},
   "outputs": [
    {
     "name": "stdout",
     "output_type": "stream",
     "text": [
      "  time_block  avg_pct_diff\n",
      "0          A      1.765571\n",
      "1          B      3.010690\n",
      "2          C      1.608562\n",
      "3          D     14.737397\n"
     ]
    },
    {
     "name": "stderr",
     "output_type": "stream",
     "text": [
      "C:\\Users\\shubh\\AppData\\Local\\Temp\\ipykernel_8432\\3721332698.py:3: FutureWarning: The default of observed=False is deprecated and will be changed to True in a future version of pandas. Pass observed=False to retain current behavior or observed=True to adopt the future default and silence this warning.\n",
      "  time_block_avg_diff = df.groupby('time_block')['pct_diff'].mean().reset_index()\n"
     ]
    }
   ],
   "source": [
    "# Calculate percentage difference between upfront and metered price\n",
    "df['pct_diff'] = ((df['upfront_price'] - df['metered_price']) / df['metered_price']) * 100\n",
    "time_block_avg_diff = df.groupby('time_block')['pct_diff'].mean().reset_index()\n",
    "time_block_avg_diff.columns = ['time_block', 'avg_pct_diff']\n",
    "\n",
    "print(time_block_avg_diff)\n"
   ]
  },
  {
   "cell_type": "code",
   "execution_count": 138,
   "id": "987cdeca",
   "metadata": {},
   "outputs": [
    {
     "data": {
      "text/html": [
       "<div>\n",
       "<style scoped>\n",
       "    .dataframe tbody tr th:only-of-type {\n",
       "        vertical-align: middle;\n",
       "    }\n",
       "\n",
       "    .dataframe tbody tr th {\n",
       "        vertical-align: top;\n",
       "    }\n",
       "\n",
       "    .dataframe thead th {\n",
       "        text-align: right;\n",
       "    }\n",
       "</style>\n",
       "<table border=\"1\" class=\"dataframe\">\n",
       "  <thead>\n",
       "    <tr style=\"text-align: right;\">\n",
       "      <th></th>\n",
       "      <th>metered_price</th>\n",
       "      <th>upfront_price</th>\n",
       "      <th>distance</th>\n",
       "      <th>duration</th>\n",
       "      <th>fraud_score</th>\n",
       "    </tr>\n",
       "  </thead>\n",
       "  <tbody>\n",
       "    <tr>\n",
       "      <th>count</th>\n",
       "      <td>3409.000000</td>\n",
       "      <td>3409.000000</td>\n",
       "      <td>3409.000000</td>\n",
       "      <td>3409.000000</td>\n",
       "      <td>1970.000000</td>\n",
       "    </tr>\n",
       "    <tr>\n",
       "      <th>mean</th>\n",
       "      <td>4999.300109</td>\n",
       "      <td>4160.095747</td>\n",
       "      <td>8971.718979</td>\n",
       "      <td>1245.337342</td>\n",
       "      <td>-686.746701</td>\n",
       "    </tr>\n",
       "    <tr>\n",
       "      <th>std</th>\n",
       "      <td>14306.060449</td>\n",
       "      <td>17015.711912</td>\n",
       "      <td>9882.407374</td>\n",
       "      <td>1311.288049</td>\n",
       "      <td>1149.825669</td>\n",
       "    </tr>\n",
       "    <tr>\n",
       "      <th>min</th>\n",
       "      <td>2.000000</td>\n",
       "      <td>2.000000</td>\n",
       "      <td>0.000000</td>\n",
       "      <td>0.000000</td>\n",
       "      <td>-14225.000000</td>\n",
       "    </tr>\n",
       "    <tr>\n",
       "      <th>25%</th>\n",
       "      <td>4.460000</td>\n",
       "      <td>4.200000</td>\n",
       "      <td>3629.000000</td>\n",
       "      <td>537.000000</td>\n",
       "      <td>-834.000000</td>\n",
       "    </tr>\n",
       "    <tr>\n",
       "      <th>50%</th>\n",
       "      <td>7.370000</td>\n",
       "      <td>6.600000</td>\n",
       "      <td>6549.000000</td>\n",
       "      <td>895.000000</td>\n",
       "      <td>-280.000000</td>\n",
       "    </tr>\n",
       "    <tr>\n",
       "      <th>75%</th>\n",
       "      <td>2033.300000</td>\n",
       "      <td>4000.000000</td>\n",
       "      <td>11203.000000</td>\n",
       "      <td>1447.000000</td>\n",
       "      <td>-70.000000</td>\n",
       "    </tr>\n",
       "    <tr>\n",
       "      <th>max</th>\n",
       "      <td>194483.520000</td>\n",
       "      <td>595000.000000</td>\n",
       "      <td>171119.000000</td>\n",
       "      <td>18734.000000</td>\n",
       "      <td>49.000000</td>\n",
       "    </tr>\n",
       "  </tbody>\n",
       "</table>\n",
       "</div>"
      ],
      "text/plain": [
       "       metered_price  upfront_price       distance      duration   fraud_score\n",
       "count    3409.000000    3409.000000    3409.000000   3409.000000   1970.000000\n",
       "mean     4999.300109    4160.095747    8971.718979   1245.337342   -686.746701\n",
       "std     14306.060449   17015.711912    9882.407374   1311.288049   1149.825669\n",
       "min         2.000000       2.000000       0.000000      0.000000 -14225.000000\n",
       "25%         4.460000       4.200000    3629.000000    537.000000   -834.000000\n",
       "50%         7.370000       6.600000    6549.000000    895.000000   -280.000000\n",
       "75%      2033.300000    4000.000000   11203.000000   1447.000000    -70.000000\n",
       "max    194483.520000  595000.000000  171119.000000  18734.000000     49.000000"
      ]
     },
     "execution_count": 138,
     "metadata": {},
     "output_type": "execute_result"
    }
   ],
   "source": [
    "# Summary statistics to identify potential outliers in key numerical columns\n",
    "summary_stats = df[['metered_price', 'upfront_price', 'distance', 'duration', 'fraud_score']].describe()\n",
    "summary_stats"
   ]
  },
  {
   "cell_type": "code",
   "execution_count": null,
   "id": "61dc824f",
   "metadata": {},
   "outputs": [],
   "source": [
    "# filtering rows with pct_diff more than 20\n",
    "\n",
    "filtered_data = df[df['pct_diff'] > 20]"
   ]
  },
  {
   "cell_type": "code",
   "execution_count": 145,
   "id": "928446b9",
   "metadata": {},
   "outputs": [
    {
     "name": "stdout",
     "output_type": "stream",
     "text": [
      "    order_id_new  order_try_id_new        calc_created  metered_price  \\\n",
      "0             22                22 2020-02-02 03:37:31           4.04   \n",
      "7           1662              1662 2020-02-17 18:24:45           2.61   \n",
      "23          1477              1477 2020-02-15 19:41:47        6000.00   \n",
      "28          1947              1947 2020-02-20 23:35:53           2.00   \n",
      "47           251               251 2020-02-04 11:47:53        6000.00   \n",
      "\n",
      "    upfront_price  distance  duration  gps_confidence entered_by   b_state  \\\n",
      "0            10.0      2839       700               1     client  finished   \n",
      "7             6.5      2020       412               1     client  finished   \n",
      "23        10000.0      2478       372               1     client  finished   \n",
      "28           10.4        24        29               1     client  finished   \n",
      "47        16000.0       743       345               1     client  finished   \n",
      "\n",
      "    ...  ticket_id_new order_state  order_try_state  overpaid_ride_ticket  \\\n",
      "0   ...           1376    finished         finished                     0   \n",
      "7   ...           3229    finished         finished                     0   \n",
      "23  ...           2998    finished         finished                     1   \n",
      "28  ...           3591    finished         finished                     0   \n",
      "47  ...           1636    finished         finished                     0   \n",
      "\n",
      "   fraud_score   calc_date calc_time hour  time_block    pct_diff  \n",
      "0      -1383.0  2020-02-02  03:37:31    3           A  147.524752  \n",
      "7      -2350.0  2020-02-17  18:24:45   18           C  149.042146  \n",
      "23         NaN  2020-02-15  19:41:47   19           D   66.666667  \n",
      "28      -238.0  2020-02-20  23:35:53   23           D  420.000000  \n",
      "47         NaN  2020-02-04  11:47:53   11           B  166.666667  \n",
      "\n",
      "[5 rows x 25 columns]\n"
     ]
    }
   ],
   "source": [
    "print(filtered_data.head())"
   ]
  },
  {
   "cell_type": "code",
   "execution_count": 147,
   "id": "1b82bed7",
   "metadata": {},
   "outputs": [
    {
     "name": "stdout",
     "output_type": "stream",
     "text": [
      "\n",
      "Average pct_diff by order_state:\n",
      " order_state\n",
      "finished    136.633558\n",
      "Name: pct_diff, dtype: float64\n",
      "\n",
      "Average pct_diff by prediction_price_type:\n",
      " prediction_price_type\n",
      "upfront    136.633558\n",
      "Name: pct_diff, dtype: float64\n",
      "\n",
      "Average pct_diff by change_reason_pricing:\n",
      " change_reason_pricing\n",
      "client_destination_changed    1286.996791\n",
      "Name: pct_diff, dtype: float64\n"
     ]
    }
   ],
   "source": [
    "# Group by categorical variables and calculate average deviation\n",
    "categorical_columns = ['order_state', 'prediction_price_type', 'change_reason_pricing']\n",
    "for col in categorical_columns:\n",
    "    group_avg = filtered_data.groupby(col)['pct_diff'].mean()\n",
    "    print(f\"\\nAverage pct_diff by {col}:\\n\", group_avg)\n"
   ]
  },
  {
   "cell_type": "code",
   "execution_count": 149,
   "id": "e341d6ac",
   "metadata": {},
   "outputs": [
    {
     "data": {
      "image/png": "[encoded data removed]",
      "text/plain": [
       "<Figure size 640x480 with 1 Axes>"
      ]
     },
     "metadata": {},
     "output_type": "display_data"
    }
   ],
   "source": [
    "\n",
    "plt.scatter(filtered_data['predicted_distance'], filtered_data['distance'], alpha=0.5)\n",
    "plt.title('Distance vs Predicted Distance')\n",
    "plt.xlabel('Predicted Distance')\n",
    "plt.ylabel('Actual Distance')\n",
    "plt.show()\n"
   ]
  },
  {
   "cell_type": "code",
   "execution_count": 150,
   "id": "9101b994",
   "metadata": {},
   "outputs": [
    {
     "data": {
      "image/png": "[encoded data removed]",
      "text/plain": [
       "<Figure size 640x480 with 1 Axes>"
      ]
     },
     "metadata": {},
     "output_type": "display_data"
    }
   ],
   "source": [
    "sns.boxplot(x='gps_confidence', y='pct_diff', data=filtered_data)\n",
    "plt.title('GPS Confidence vs Pct_Diff')\n",
    "plt.show()"
   ]
  },
  {
   "cell_type": "code",
   "execution_count": null,
   "id": "668ce4f0",
   "metadata": {},
   "outputs": [
    {
     "data": {
      "image/png": "[encoded data removed]",
      "text/plain": [
       "<Figure size 1000x600 with 1 Axes>"
      ]
     },
     "metadata": {},
     "output_type": "display_data"
    }
   ],
   "source": [
    "# scatter plot for corelation btw price deviation and fraud score\n",
    "\n",
    "plt.figure(figsize=(10, 6))\n",
    "plt.scatter(filtered_data['fraud_score'], filtered_data['pct_diff'], alpha=0.5, color='red')\n",
    "plt.title('Fraud Score vs. Price Deviation')\n",
    "plt.xlabel('Fraud Score')\n",
    "plt.ylabel('Price Deviation (pct_diff)')\n",
    "plt.show()\n"
   ]
  },
  {
   "cell_type": "code",
   "execution_count": 182,
   "id": "ce318c73",
   "metadata": {},
   "outputs": [
    {
     "data": {
      "image/png": "[encoded data removed]",
      "text/plain": [
       "<Figure size 1000x600 with 1 Axes>"
      ]
     },
     "metadata": {},
     "output_type": "display_data"
    }
   ],
   "source": [
    "# Visualize feature importance\n",
    "plt.figure(figsize=(10, 6))\n",
    "plt.barh(features, model.feature_importances_, color='skyblue')\n",
    "plt.title('Feature Importance in Predicting Price Deviation')\n",
    "plt.xlabel('Importance')\n",
    "plt.ylabel('Features')\n",
    "plt.gca().invert_yaxis()\n",
    "plt.tight_layout()\n",
    "plt.show()\n",
    "\n",
    "# Key Interpretation:\n",
    "# - Higher importance indicates a stronger contribution to deviations.\n",
    "# - Focus on improving the most influential features.\n"
   ]
  }
 ],
 "metadata": {
  "kernelspec": {
   "display_name": "base",
   "language": "python",
   "name": "python3"
  },
  "language_info": {
   "codemirror_mode": {
    "name": "ipython",
    "version": 3
   },
   "file_extension": ".py",
   "mimetype": "text/x-python",
   "name": "python",
   "nbconvert_exporter": "python",
   "pygments_lexer": "ipython3",
   "version": "3.12.7"
  }
 },
 "nbformat": 4,
 "nbformat_minor": 5
}
